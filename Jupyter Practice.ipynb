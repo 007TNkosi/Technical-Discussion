{
 "cells": [
  {
   "cell_type": "markdown",
   "metadata": {},
   "source": [
    "# Hello World Example"
   ]
  },
  {
   "cell_type": "markdown",
   "metadata": {},
   "source": [
    "This project is to start my learning journey on Jupyter Notebook for my [Cloud Computing Foundation](https://www.coursera.org/learn/cloud-computing-foundations-duke/lecture/zNF7x/instructor-introduction)."
   ]
  },
  {
   "cell_type": "markdown",
   "metadata": {},
   "source": [
    "## Tasks\n",
    "- [x] Create a code cell and print a Python Hello World statement: `print(\"hello world\")`\n",
    "- [x] Create a Markdown Cell and add a Title using # and then a statement using plain text.\n",
    "- [ ] Download this notebook as a .ipynb file and check into a GitHub Project. "
   ]
  },
  {
   "cell_type": "markdown",
   "metadata": {},
   "source": [
    "### Here is the code snippet"
   ]
  },
  {
   "cell_type": "markdown",
   "metadata": {},
   "source": [
    "```\n",
    "def helloWorld():\n",
    "    return \"Hello world!\"\n",
    "\n",
    "helloWorld()\n",
    "```"
   ]
  }
 ],
 "metadata": {
  "kernelspec": {
   "display_name": "Python 3",
   "language": "python",
   "name": "python3"
  },
  "language_info": {
   "codemirror_mode": {
    "name": "ipython",
    "version": 3
   },
   "file_extension": ".py",
   "mimetype": "text/x-python",
   "name": "python",
   "nbconvert_exporter": "python",
   "pygments_lexer": "ipython3",
   "version": "3.7.6"
  }
 },
 "nbformat": 4,
 "nbformat_minor": 4
}
